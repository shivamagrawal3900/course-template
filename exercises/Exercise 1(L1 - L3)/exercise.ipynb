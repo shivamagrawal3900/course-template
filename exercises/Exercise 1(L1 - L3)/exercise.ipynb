{
 "cells": [
  {
   "cell_type": "code",
   "execution_count": 40,
   "outputs": [],
   "source": [
    "import math\n",
    "import re"
   ],
   "metadata": {
    "collapsed": false,
    "pycharm": {
     "name": "#%%\n"
    }
   }
  },
  {
   "cell_type": "markdown",
   "metadata": {
    "collapsed": true,
    "pycharm": {
     "name": "#%% md\n"
    }
   },
   "source": [
    "1\\. Given a number, find the sum of its digits. Take the number as\n",
    "an input from the user."
   ]
  },
  {
   "cell_type": "code",
   "execution_count": 21,
   "outputs": [
    {
     "name": "stdout",
     "output_type": "stream",
     "text": [
      "Sum of digits of 123 is 6\n"
     ]
    }
   ],
   "source": [
    "n1 = int(input(\"enter a number\"))\n",
    "r1 = 0\n",
    "print(\"Sum of digits of\", n1, \"is\", end=\" \")\n",
    "while n1 > 0:\n",
    "    r1 = r1 + (n1 % 10)\n",
    "    n1 = n1 // 10\n",
    "print(r1)"
   ],
   "metadata": {
    "collapsed": false,
    "pycharm": {
     "name": "#%%\n"
    }
   }
  },
  {
   "cell_type": "code",
   "execution_count": 5,
   "outputs": [],
   "source": [],
   "metadata": {
    "collapsed": false,
    "pycharm": {
     "name": "#%%\n"
    }
   }
  },
  {
   "cell_type": "markdown",
   "source": [
    "2\\. Given a number, check whether the given number is an\n",
    "Armstrong number or not. A positive integer is called an\n",
    "Armstrong number of order n if:\n",
    "<br>abcd... = a<sup>n</sup> + b<sup>n</sup> + c<sup>n</sup> + d<sup>n</sup> + ...\n",
    "<br>Example: 153 = 1\\*1\\*1 + 5\\*5\\*5 + 3\\*3\\*3\n",
    "<br>153 is an Armstrong number of order 3.\n",
    "<br>Inputs from the user will be number and order n."
   ],
   "metadata": {
    "collapsed": false,
    "pycharm": {
     "name": "#%% md\n"
    }
   }
  },
  {
   "cell_type": "code",
   "execution_count": 7,
   "outputs": [
    {
     "name": "stdout",
     "output_type": "stream",
     "text": [
      "153 is Armstrong number\n"
     ]
    }
   ],
   "source": [
    "n2 = int(input(\"Enter a number\"))\n",
    "o2 = int(input(\"Enter an order to check if number is an Armstrong number\"))\n",
    "initial_n2 = n2\n",
    "r2 = 0\n",
    "while n2 > 0:\n",
    "    r2 = r2 + ((n2 % 10) ** o2)\n",
    "    n2 = n2 // 10\n",
    "print(initial_n2, \"is Armstrong number\" if r2 == initial_n2 else \"is not an Armstrong number\")"
   ],
   "metadata": {
    "collapsed": false,
    "pycharm": {
     "name": "#%%\n"
    }
   }
  },
  {
   "cell_type": "code",
   "execution_count": 7,
   "outputs": [],
   "source": [],
   "metadata": {
    "collapsed": false,
    "pycharm": {
     "name": "#%%\n"
    }
   }
  },
  {
   "cell_type": "markdown",
   "source": [
    "3\\. Given a string, write a python function to check if it is\n",
    "palindrome or not. A string is said to be palindrome if the reverse\n",
    "of the string is the same as string. For example, “malayalam” is a\n",
    "palindrome, but “music” is not a palindrome."
   ],
   "metadata": {
    "collapsed": false,
    "pycharm": {
     "name": "#%% md\n"
    }
   }
  },
  {
   "cell_type": "code",
   "execution_count": 14,
   "outputs": [
    {
     "name": "stdout",
     "output_type": "stream",
     "text": [
      "malayalam is a palindrome\n"
     ]
    }
   ],
   "source": [
    "s3 = input(\"Enter a string to check palindrome\")\n",
    "for i in range(len(s3)//2):\n",
    "    if s3[i] != s3[-(i+1)]:\n",
    "        print(s3, \"is not a palindrome\")\n",
    "        break\n",
    "else:\n",
    "    print(s3, \"is a palindrome\")"
   ],
   "metadata": {
    "collapsed": false,
    "pycharm": {
     "name": "#%%\n"
    }
   }
  },
  {
   "cell_type": "code",
   "execution_count": 12,
   "outputs": [],
   "source": [],
   "metadata": {
    "collapsed": false,
    "pycharm": {
     "name": "#%%\n"
    }
   }
  },
  {
   "cell_type": "markdown",
   "source": [
    "4\\. Given an array which may contain duplicates, print all elements\n",
    "and their frequencies."
   ],
   "metadata": {
    "collapsed": false,
    "pycharm": {
     "name": "#%% md\n"
    }
   }
  },
  {
   "cell_type": "code",
   "execution_count": 15,
   "outputs": [
    {
     "name": "stdout",
     "output_type": "stream",
     "text": [
      "frequencies of each element in [1, 2, 3, 'a', 'b', 1, 'a', 'a'] is:\n",
      " {1: 2, 2: 1, 3: 1, 'a': 3, 'b': 1}\n"
     ]
    }
   ],
   "source": [
    "arr4 = [1,2,3,'a','b',1,'a','a']\n",
    "dict4 = dict()\n",
    "for element in arr4:\n",
    "    dict4[element] = dict4.get(element, 0) + 1\n",
    "print(\"frequencies of each element in\", arr4, \"is:\\n\", dict4)"
   ],
   "metadata": {
    "collapsed": false,
    "pycharm": {
     "name": "#%%\n"
    }
   }
  },
  {
   "cell_type": "code",
   "execution_count": 15,
   "outputs": [],
   "source": [],
   "metadata": {
    "collapsed": false,
    "pycharm": {
     "name": "#%%\n"
    }
   }
  },
  {
   "cell_type": "markdown",
   "source": [
    "5\\. Given a number n, write a function to print all prime factors of\n",
    "n. For example, if the input number is 12, then output should be\n",
    "“2 2 3”."
   ],
   "metadata": {
    "collapsed": false,
    "pycharm": {
     "name": "#%% md\n"
    }
   }
  },
  {
   "cell_type": "code",
   "execution_count": 20,
   "outputs": [
    {
     "name": "stdout",
     "output_type": "stream",
     "text": [
      "Prime factors of 123 are: [3, 41]\n"
     ]
    }
   ],
   "source": [
    "n5 = int(input(\"Enter a number to find prime factors\"))\n",
    "i = 2\n",
    "r5 = []\n",
    "print(\"Prime factors of\", n5, \"are:\", end=\" \")\n",
    "while n5 > 1:\n",
    "    if n5 % i == 0:\n",
    "        r5.append(i)\n",
    "        n5 /= i\n",
    "    else:\n",
    "        i += 1\n",
    "print(r5)"
   ],
   "metadata": {
    "collapsed": false,
    "pycharm": {
     "name": "#%%\n"
    }
   }
  },
  {
   "cell_type": "code",
   "execution_count": 17,
   "outputs": [],
   "source": [],
   "metadata": {
    "collapsed": false,
    "pycharm": {
     "name": "#%%\n"
    }
   }
  },
  {
   "cell_type": "markdown",
   "source": [
    "6\\. Given two numbers n and r, find the value of  <sup>n</sup>C<sub>r</sub> (binomial\n",
    "coefficient: <sup>n</sup>C<sub>r</sub> = (n!) / (r! * (n-r)!))"
   ],
   "metadata": {
    "collapsed": false,
    "pycharm": {
     "name": "#%% md\n"
    }
   }
  },
  {
   "cell_type": "code",
   "execution_count": 24,
   "outputs": [
    {
     "name": "stdout",
     "output_type": "stream",
     "text": [
      "binomial coefficient of 4 and 4 is: 1.0\n"
     ]
    }
   ],
   "source": [
    "n6_n = int(input(\"Enter n to find binomial coefficient\"))\n",
    "n6_r = int(input(\"Enter r to find binomial coefficient\"))\n",
    "if n6_n < n6_r:\n",
    "    print(\"n should not smaller than r\")\n",
    "else:\n",
    "    r6 = math.factorial(n6_n) / (math.factorial(n6_r) * math.factorial(n6_n - n6_r))\n",
    "    print(\"binomial coefficient of\", n6_n, \"and\", n6_r, \"is:\", r6)"
   ],
   "metadata": {
    "collapsed": false,
    "pycharm": {
     "name": "#%%\n"
    }
   }
  },
  {
   "cell_type": "code",
   "execution_count": 24,
   "outputs": [],
   "source": [],
   "metadata": {
    "collapsed": false,
    "pycharm": {
     "name": "#%%\n"
    }
   }
  },
  {
   "cell_type": "markdown",
   "source": [
    "7\\. Searching: Given a sorted array arr[] of n elements, write a\n",
    "function to search a given element x in arr[]. Do it using linear\n",
    "and binary search techniques."
   ],
   "metadata": {
    "collapsed": false,
    "pycharm": {
     "name": "#%% md\n"
    }
   }
  },
  {
   "cell_type": "code",
   "execution_count": 25,
   "outputs": [],
   "source": [
    "def linear_search(arr, x):\n",
    "    for i, element in enumerate(arr):\n",
    "        if element == x:\n",
    "            return i\n",
    "    else:\n",
    "        return -1"
   ],
   "metadata": {
    "collapsed": false,
    "pycharm": {
     "name": "#%%\n"
    }
   }
  },
  {
   "cell_type": "code",
   "execution_count": 26,
   "outputs": [],
   "source": [
    "def binary_search(arr, x):\n",
    "    left = 0\n",
    "    right = len(arr) - 1\n",
    "    while left <= right:\n",
    "        mid = (right + left) // 2\n",
    "        if arr[mid] == x:\n",
    "            return mid\n",
    "        elif arr[mid] > x:\n",
    "            right = mid - 1\n",
    "        else:\n",
    "            left = mid + 1\n",
    "    else:\n",
    "        return -1"
   ],
   "metadata": {
    "collapsed": false,
    "pycharm": {
     "name": "#%%\n"
    }
   }
  },
  {
   "cell_type": "code",
   "execution_count": 33,
   "outputs": [
    {
     "name": "stdout",
     "output_type": "stream",
     "text": [
      "By linear search 4 in [1, 2, 3, 4, 5, 6, 7, 8, 9] is at index 3\n",
      "By binary search 4 in [1, 2, 3, 4, 5, 6, 7, 8, 9] is at index 3\n"
     ]
    }
   ],
   "source": [
    "arr7 = [1,2,3,4,5,6,7,8,9]\n",
    "n7 = int(input(f\"Enter element to search from {arr7}\"))\n",
    "print(\"By linear search,\", n7, \"in\", arr7, \"is at index\", linear_search(arr7, n7))\n",
    "print(\"By binary search,\", n7, \"in\", arr7, \"is at index\", binary_search(arr7, n7))"
   ],
   "metadata": {
    "collapsed": false,
    "pycharm": {
     "name": "#%%\n"
    }
   }
  },
  {
   "cell_type": "code",
   "execution_count": 33,
   "outputs": [],
   "source": [],
   "metadata": {
    "collapsed": false,
    "pycharm": {
     "name": "#%%\n"
    }
   }
  },
  {
   "cell_type": "markdown",
   "source": [
    "8\\. Input a text file (containing 1 or more paragraphs of English\n",
    "text) from the user, parse this file to display the frequency of\n",
    "occurrence of each word in this text file. Find the 3 most frequent\n",
    "words as well."
   ],
   "metadata": {
    "collapsed": false,
    "pycharm": {
     "name": "#%% md\n"
    }
   }
  },
  {
   "cell_type": "code",
   "execution_count": 43,
   "outputs": [],
   "source": [
    "def get_frequency(arr, frequency_dict):\n",
    "    for e in arr:\n",
    "        e = e.lower().strip()\n",
    "        e = re.sub(\"[^\\w]\", \"\", e)\n",
    "        if e:\n",
    "            frequency_dict[e] = frequency_dict.get(e, 0) + 1\n",
    "    return frequency_dict"
   ],
   "metadata": {
    "collapsed": false,
    "pycharm": {
     "name": "#%%\n"
    }
   }
  },
  {
   "cell_type": "code",
   "execution_count": 46,
   "outputs": [
    {
     "name": "stdout",
     "output_type": "stream",
     "text": [
      "Frequency of all elements of dummy_file.txt:  {'this': 3, 'is': 1, 'demo': 1, 'file': 3, 'it': 2, 'contains': 1, 'many': 1, 'lines': 2, 'in': 1, 'some': 2, 'are': 2, 'big': 1, 'small': 1, 'any': 2, 'python': 1, 'program': 2, 'can': 2, 'read': 1, 'pythonp': 1, 'write': 1, 'into': 1}\n",
      "Top 3 most frequent words are: [('this', 3), ('file', 3), ('it', 2)]\n"
     ]
    }
   ],
   "source": [
    "with open(\"dummy_file.txt\", 'r') as f8:\n",
    "    dict8 = dict()\n",
    "    for lines in f8.readlines():\n",
    "        dict8 = get_frequency(lines.split(\" \"), dict8)\n",
    "    print(\"Frequency of all elements of dummy_file.txt: \", dict8)\n",
    "\n",
    "    top3 = sorted(dict8.items(), key=lambda x: x[1], reverse=True)[:3]\n",
    "    print(\"Top 3 most frequent words are:\", top3)"
   ],
   "metadata": {
    "collapsed": false,
    "pycharm": {
     "name": "#%%\n"
    }
   }
  },
  {
   "cell_type": "code",
   "execution_count": null,
   "outputs": [],
   "source": [],
   "metadata": {
    "collapsed": false,
    "pycharm": {
     "name": "#%%\n"
    }
   }
  }
 ],
 "metadata": {
  "kernelspec": {
   "display_name": "Python 3",
   "language": "python",
   "name": "python3"
  },
  "language_info": {
   "codemirror_mode": {
    "name": "ipython",
    "version": 2
   },
   "file_extension": ".py",
   "mimetype": "text/x-python",
   "name": "python",
   "nbconvert_exporter": "python",
   "pygments_lexer": "ipython2",
   "version": "2.7.6"
  }
 },
 "nbformat": 4,
 "nbformat_minor": 0
}